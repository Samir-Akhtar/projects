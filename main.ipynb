{
 "cells": [
  {
   "cell_type": "code",
   "execution_count": 43,
   "metadata": {},
   "outputs": [],
   "source": [
    "import pandas as pd\n",
    "import numpy as np\n",
    "import datetime\n",
    "from sklearn.ensemble import RandomForestRegressor\n",
    "from sklearn.multioutput import MultiOutputRegressor\n",
    "from sklearn.model_selection import train_test_split\n",
    "import joblib\n"
   ]
  },
  {
   "cell_type": "code",
   "execution_count": 74,
   "metadata": {},
   "outputs": [],
   "source": [
    "# Set the target city\n",
    "\n",
    "# \"WINDHOEK\"  Namibia\n",
    "# \"NDJAMENA\"   Chad\n",
    "# \"NIAMEY AERO\"  Niger\n",
    "# \"TEJGAON\"   Bangladesh\n",
    "\n",
    "CITY = \"TEJGAON\"\n"
   ]
  },
  {
   "cell_type": "code",
   "execution_count": 75,
   "metadata": {},
   "outputs": [
    {
     "name": "stdout",
     "output_type": "stream",
     "text": [
      "data shape before cleaning: (33292, 7)\n",
      "data shape after cleaning: (1710, 5)\n",
      "            PRCP  TAVG   TMAX   TMIN LOCATION\n",
      "DATE                                         \n",
      "2000-03-19   NaN  79.0  30.56  21.11  TEJGAON\n",
      "2001-08-24  0.12  85.0  31.11  25.56  TEJGAON\n",
      "2002-11-21  0.00  74.0  27.78  18.33  TEJGAON\n"
     ]
    }
   ],
   "source": [
    "# Load and clean the dataset\n",
    "df = pd.read_csv(\"weather2.csv\", parse_dates=[\"DATE\"])\n",
    "print(\"data shape before cleaning:\", df.shape)\n",
    "\n",
    "df[\"LOCATION\"] = df[\"NAME\"].apply(lambda x: x.split(\",\")[0].strip())\n",
    "df.drop(columns=[\"STATION\", \"NAME\"], inplace=True)\n",
    "\n",
    "for col in [\"PRCP\", \"TMAX\", \"TMIN\"]:\n",
    "    df[col] = pd.to_numeric(df[col], errors=\"coerce\")\n",
    "\n",
    "df[\"TMAX\"] = (df[\"TMAX\"] - 32) * 5/9\n",
    "df[\"TMIN\"] = (df[\"TMIN\"] - 32) * 5/9\n",
    "\n",
    "df.dropna(subset=[\"TMAX\", \"TMIN\"], inplace=True)\n",
    "df = df[df[\"LOCATION\"].str.upper() == CITY.upper()]\n",
    "df.set_index(\"DATE\", inplace=True)\n",
    "\n",
    "print(\"data shape after cleaning:\", df.shape)\n",
    "print(df.round(2).head(3))\n"
   ]
  },
  {
   "cell_type": "code",
   "execution_count": 76,
   "metadata": {},
   "outputs": [
    {
     "name": "stdout",
     "output_type": "stream",
     "text": [
      "cleaned data preview:\n",
      "        DATE  precipitation  temperature_max  temperature_min\n",
      "0 2000-03-19            NaN            30.56            21.11\n",
      "1 2001-08-24           0.12            31.11            25.56\n",
      "2 2002-11-21           0.00            27.78            18.33\n"
     ]
    }
   ],
   "source": [
    "# make desired dataframe\n",
    "main_weather1 = df[[\"PRCP\", \"TMAX\", \"TMIN\"]].copy()\n",
    "main_weather1.columns = [\"precipitation\", \"temperature_max\", \"temperature_min\"]\n",
    "main_weather1 = main_weather1.reset_index()\n",
    "\n",
    "print(\"cleaned data preview:\")\n",
    "print(main_weather1.round(2).head(3))\n"
   ]
  },
  {
   "cell_type": "code",
   "execution_count": 77,
   "metadata": {},
   "outputs": [
    {
     "name": "stdout",
     "output_type": "stream",
     "text": [
      "featured data preview:\n",
      "        DATE  precipitation  temperature_max  temperature_min  \\\n",
      "2 2002-11-21            0.0            27.78            18.33   \n",
      "3 2002-12-09            0.0            27.22            16.11   \n",
      "4 2003-03-24            0.0            31.67            20.56   \n",
      "\n",
      "   precipitation_lag1  temperature_max_lag1  temperature_min_lag1  \n",
      "2                0.12                 31.11                 25.56  \n",
      "3                0.00                 27.78                 18.33  \n",
      "4                0.00                 27.22                 16.11  \n"
     ]
    }
   ],
   "source": [
    "# make lag features and sort by date\n",
    "main_weather1 = main_weather1.sort_values(\"DATE\").copy()\n",
    "main_weather1[\"precipitation_lag1\"] = main_weather1[\"precipitation\"].shift(1)\n",
    "main_weather1[\"temperature_max_lag1\"] = main_weather1[\"temperature_max\"].shift(1)\n",
    "main_weather1[\"temperature_min_lag1\"] = main_weather1[\"temperature_min\"].shift(1)\n",
    "main_weather1.dropna(inplace=True)\n",
    "\n",
    "print(\"featured data preview:\")\n",
    "print(main_weather1.round(2).head(3))\n"
   ]
  },
  {
   "cell_type": "code",
   "execution_count": 78,
   "metadata": {},
   "outputs": [
    {
     "name": "stdout",
     "output_type": "stream",
     "text": [
      "input shape: (1702, 5)\n",
      "target shape: (1702, 3)\n"
     ]
    }
   ],
   "source": [
    "# define input features and targets\n",
    "features = ['precipitation', 'temperature_min', 'precipitation_lag1',\n",
    "            'temperature_max_lag1', 'temperature_min_lag1']\n",
    "targets = ['temperature_max', 'temperature_min', 'precipitation']\n",
    "\n",
    "X = main_weather1[features]\n",
    "y = main_weather1[targets]\n",
    "\n",
    "print(\"input shape:\", X.shape)\n",
    "print(\"target shape:\", y.shape)\n"
   ]
  },
  {
   "cell_type": "code",
   "execution_count": 79,
   "metadata": {},
   "outputs": [
    {
     "name": "stdout",
     "output_type": "stream",
     "text": [
      "model trained\n"
     ]
    }
   ],
   "source": [
    "# train model\n",
    "X_train, X_test, y_train, y_test = train_test_split(X, y, test_size=0.2, random_state=42)\n",
    "model = MultiOutputRegressor(RandomForestRegressor(n_estimators=250, random_state=42))\n",
    "model.fit(X_train, y_train)\n",
    "\n",
    "print(\"model trained\")\n"
   ]
  },
  {
   "cell_type": "code",
   "execution_count": 80,
   "metadata": {},
   "outputs": [
    {
     "name": "stdout",
     "output_type": "stream",
     "text": [
      "7-day forecast:\n",
      "         Date  Predicted_temperature_max  Predicted_temperature_min  \\\n",
      "0  2025-05-03                      35.59                      25.56   \n",
      "1  2025-05-04                      35.92                      25.56   \n",
      "2  2025-05-05                      37.42                      22.78   \n",
      "3  2025-05-06                      34.26                      25.56   \n",
      "4  2025-05-07                      34.78                      25.56   \n",
      "5  2025-05-08                      35.52                      25.00   \n",
      "6  2025-05-09                      31.00                      22.22   \n",
      "\n",
      "   Predicted_precipitation  \n",
      "0                     0.00  \n",
      "1                     0.00  \n",
      "2                     0.00  \n",
      "3                     0.00  \n",
      "4                     0.00  \n",
      "5                     0.00  \n",
      "6                     0.65  \n"
     ]
    }
   ],
   "source": [
    "# make 7 day forecast\n",
    "city_data = main_weather1.sort_values(\"DATE\")\n",
    "recent_days = city_data.tail(7)\n",
    "\n",
    "future_dates = [(datetime.datetime.today() + datetime.timedelta(days=i)).strftime('%Y-%m-%d') for i in range(1, 8)]\n",
    "predictions = []\n",
    "\n",
    "for i in range(len(recent_days)):\n",
    "    row = recent_days.iloc[i][features]\n",
    "    input_df = pd.DataFrame([row])\n",
    "    result = model.predict(input_df)[0]\n",
    "    temp_max, temp_min, rain = [round(val, 2) for val in result]\n",
    "    predictions.append([future_dates[i], temp_max, temp_min, rain])\n",
    "\n",
    "future_df = pd.DataFrame(predictions, columns=[\n",
    "    \"Date\", \"Predicted_temperature_max\", \"Predicted_temperature_min\", \"Predicted_precipitation\"])\n",
    "\n",
    "print(\"7-day forecast:\")\n",
    "print(future_df)\n"
   ]
  },
  {
   "cell_type": "code",
   "execution_count": 81,
   "metadata": {},
   "outputs": [
    {
     "name": "stdout",
     "output_type": "stream",
     "text": [
      "Extreme weather in forecast:\n",
      "         Date Extreme_Weather_Type\n",
      "0  2025-05-03   No extreme weather\n",
      "1  2025-05-04   No extreme weather\n",
      "2  2025-05-05            Heat Wave\n",
      "3  2025-05-06   No extreme weather\n",
      "4  2025-05-07   No extreme weather\n",
      "5  2025-05-08   No extreme weather\n",
      "6  2025-05-09   No extreme weather\n"
     ]
    }
   ],
   "source": [
    "# classify extreme weather types\n",
    "labels = []\n",
    "heat = flood = 0\n",
    "\n",
    "for i in range(len(future_df)):\n",
    "    row = future_df.iloc[i]\n",
    "    label = []\n",
    "\n",
    "    # Heat Wave: Max temperature ≥ 35°C for 3 consecutive days\n",
    "    if row[\"Predicted_temperature_max\"] >= 35:\n",
    "        heat += 1\n",
    "    else:\n",
    "        heat = 0\n",
    "    if heat >= 3:\n",
    "        label.append(\"Heat Wave\")\n",
    "\n",
    "    # Flash Flood Risk: Precipitation ≥ 20 mm in a day (est. 20–25 mm/hr)\n",
    "    if row[\"Predicted_precipitation\"] >= 20:\n",
    "        flood += 1\n",
    "    else:\n",
    "        flood = 0\n",
    "    if flood >= 1:\n",
    "        label.append(\"Possibility of Flash Flood\")\n",
    "\n",
    "    # Hazardous Rainfall: Precipitation ≥ 48 mm in a single day (10 mm/hr x 4–6 hrs)\n",
    "    if row[\"Predicted_precipitation\"] >= 48:\n",
    "        label.append(\"Heavy Rain\")\n",
    "\n",
    "    # Extreme Cold: Max temperature < 0°C\n",
    "    if row[\"Predicted_temperature_max\"] < 0:\n",
    "        label.append(\"Extreme Cold\")\n",
    "\n",
    "    labels.append(\"No extreme weather\" if not label else \" and \".join(label))\n",
    "\n",
    "future_df[\"Extreme_Weather_Type\"] = labels\n",
    "\n",
    "print(\"Extreme weather in forecast:\")\n",
    "print(future_df[[\"Date\", \"Extreme_Weather_Type\"]])\n"
   ]
  },
  {
   "cell_type": "code",
   "execution_count": null,
   "metadata": {},
   "outputs": [
    {
     "name": "stdout",
     "output_type": "stream",
     "text": [
      "\n",
      "model prediction vs actual values:\n",
      "   Actual Max  Predicted Max  Actual Min  Predicted Min  Actual Precip  \\\n",
      "0       33.89          32.59       21.11          21.11           0.00   \n",
      "1       28.33          27.37       16.67          16.67           0.00   \n",
      "2       23.33          24.53       13.33          13.33           0.00   \n",
      "3       32.22          33.23       26.67          26.67           0.01   \n",
      "4       32.22          33.17       23.33          23.33           0.00   \n",
      "\n",
      "   Predicted Precip  \n",
      "0              0.00  \n",
      "1              0.00  \n",
      "2              0.00  \n",
      "3              0.01  \n",
      "4              0.00  \n",
      "\n",
      "model accuracy (%):\n",
      "Max Temp: 95.86%\n",
      "Min Temp: 99.99%\n",
      "Precipitation: 98.08%\n"
     ]
    }
   ],
   "source": [
    "# model evaluation\n",
    "predictions_test = model.predict(X_test)\n",
    "\n",
    "comparison = pd.DataFrame({\n",
    "    \"Actual Max\": y_test[\"temperature_max\"].values[:5],\n",
    "    \"Predicted Max\": predictions_test[:5, 0],\n",
    "    \"Actual Min\": y_test[\"temperature_min\"].values[:5],\n",
    "    \"Predicted Min\": predictions_test[:5, 1],\n",
    "    \"Actual Precip\": y_test[\"precipitation\"].values[:5],\n",
    "    \"Predicted Precip\": predictions_test[:5, 2]\n",
    "})\n",
    "\n",
    "print(\"\\nmodel prediction vs actual values:\")\n",
    "print(comparison.round(2))\n",
    "\n"
   ]
  },
  {
   "cell_type": "code",
   "execution_count": 83,
   "metadata": {},
   "outputs": [
    {
     "name": "stdout",
     "output_type": "stream",
     "text": [
      "model saved as: tejgaon_model.pkl\n"
     ]
    }
   ],
   "source": [
    "# save model for this city\n",
    "city_name_clean = CITY.lower().replace(\" \", \"_\")\n",
    "model_path = f\"{city_name_clean}_model.pkl\"\n",
    "joblib.dump(model, model_path)\n",
    "\n",
    "print(f\"model saved as: {model_path}\")\n"
   ]
  }
 ],
 "metadata": {
  "kernelspec": {
   "display_name": ".venv",
   "language": "python",
   "name": "python3"
  },
  "language_info": {
   "codemirror_mode": {
    "name": "ipython",
    "version": 3
   },
   "file_extension": ".py",
   "mimetype": "text/x-python",
   "name": "python",
   "nbconvert_exporter": "python",
   "pygments_lexer": "ipython3",
   "version": "3.9.6"
  }
 },
 "nbformat": 4,
 "nbformat_minor": 2
}
